{
  "nbformat": 4,
  "nbformat_minor": 0,
  "metadata": {
    "colab": {
      "name": "RNNv11.ipynb",
      "provenance": []
    },
    "kernelspec": {
      "name": "python3",
      "display_name": "Python 3"
    },
    "language_info": {
      "name": "python"
    }
  },
  "cells": [
    {
      "cell_type": "code",
      "metadata": {
        "id": "Mnzk-eFn5GKP"
      },
      "source": [
        "import numpy as np \n",
        "import pandas as pd \n",
        "import tensorflow as tf\n",
        "from tensorflow import keras\n",
        "import matplotlib.pyplot as plt\n",
        "import seaborn as sns"
      ],
      "execution_count": null,
      "outputs": []
    },
    {
      "cell_type": "code",
      "metadata": {
        "id": "wBbEGgMr6UvR"
      },
      "source": [
        "snarp = pd.read_csv(\"/content/drive/MyDrive/data3.csv\")"
      ],
      "execution_count": null,
      "outputs": []
    },
    {
      "cell_type": "code",
      "metadata": {
        "colab": {
          "base_uri": "https://localhost:8080/",
          "height": 351
        },
        "id": "MDfGBshP6WfE",
        "outputId": "e3cef243-85a1-4083-c78a-954f753c783e"
      },
      "source": [
        "snarp.describe()"
      ],
      "execution_count": null,
      "outputs": [
        {
          "output_type": "execute_result",
          "data": {
            "text/html": [
              "<div>\n",
              "<style scoped>\n",
              "    .dataframe tbody tr th:only-of-type {\n",
              "        vertical-align: middle;\n",
              "    }\n",
              "\n",
              "    .dataframe tbody tr th {\n",
              "        vertical-align: top;\n",
              "    }\n",
              "\n",
              "    .dataframe thead th {\n",
              "        text-align: right;\n",
              "    }\n",
              "</style>\n",
              "<table border=\"1\" class=\"dataframe\">\n",
              "  <thead>\n",
              "    <tr style=\"text-align: right;\">\n",
              "      <th></th>\n",
              "      <th>Age</th>\n",
              "      <th>Number_of_sexual_partners</th>\n",
              "      <th>First sexual intercourse</th>\n",
              "      <th>Num of pregnancies</th>\n",
              "      <th>Smokes</th>\n",
              "      <th>Smokes (years)</th>\n",
              "      <th>Smokes (packs/year)</th>\n",
              "      <th>Hormonal Contraceptives</th>\n",
              "      <th>Hormonal Contraceptives (years)</th>\n",
              "      <th>IUD</th>\n",
              "      <th>IUD (years)</th>\n",
              "      <th>STDs</th>\n",
              "      <th>STDs (number)</th>\n",
              "      <th>STDs:condylomatosis</th>\n",
              "      <th>STDs:cervical condylomatosis</th>\n",
              "      <th>STDs:vaginal condylomatosis</th>\n",
              "      <th>STDs:vulvo-perineal condylomatosis</th>\n",
              "      <th>STDs:syphilis</th>\n",
              "      <th>STDs:pelvic inflammatory disease</th>\n",
              "      <th>STDs:genital herpes</th>\n",
              "      <th>STDs:molluscum contagiosum</th>\n",
              "      <th>STDs:AIDS</th>\n",
              "      <th>STDs:HIV</th>\n",
              "      <th>STDs:Hepatitis B</th>\n",
              "      <th>STDs:HPV</th>\n",
              "      <th>STDs: Number of diagnosis</th>\n",
              "      <th>Dx:Cancer</th>\n",
              "      <th>Dx:CIN</th>\n",
              "      <th>Dx:HPV</th>\n",
              "      <th>Dx</th>\n",
              "      <th>Hinselmann</th>\n",
              "      <th>Schiller</th>\n",
              "      <th>Citology</th>\n",
              "      <th>Biopsy</th>\n",
              "    </tr>\n",
              "  </thead>\n",
              "  <tbody>\n",
              "    <tr>\n",
              "      <th>count</th>\n",
              "      <td>589.000000</td>\n",
              "      <td>589.000000</td>\n",
              "      <td>589.000000</td>\n",
              "      <td>589.000000</td>\n",
              "      <td>589.000000</td>\n",
              "      <td>589.000000</td>\n",
              "      <td>589.000000</td>\n",
              "      <td>589.000000</td>\n",
              "      <td>589.000000</td>\n",
              "      <td>589.000000</td>\n",
              "      <td>589.000000</td>\n",
              "      <td>589.000000</td>\n",
              "      <td>589.000000</td>\n",
              "      <td>589.000000</td>\n",
              "      <td>589.0</td>\n",
              "      <td>589.000000</td>\n",
              "      <td>589.000000</td>\n",
              "      <td>589.000000</td>\n",
              "      <td>589.000000</td>\n",
              "      <td>589.0</td>\n",
              "      <td>589.000000</td>\n",
              "      <td>589.0</td>\n",
              "      <td>589.000000</td>\n",
              "      <td>589.000000</td>\n",
              "      <td>589.000000</td>\n",
              "      <td>589.000000</td>\n",
              "      <td>589.000000</td>\n",
              "      <td>589.000000</td>\n",
              "      <td>589.000000</td>\n",
              "      <td>589.000000</td>\n",
              "      <td>589.000000</td>\n",
              "      <td>589.000000</td>\n",
              "      <td>589.000000</td>\n",
              "      <td>589.000000</td>\n",
              "    </tr>\n",
              "    <tr>\n",
              "      <th>mean</th>\n",
              "      <td>27.860781</td>\n",
              "      <td>2.555178</td>\n",
              "      <td>17.239389</td>\n",
              "      <td>2.376910</td>\n",
              "      <td>0.140917</td>\n",
              "      <td>1.286580</td>\n",
              "      <td>0.485146</td>\n",
              "      <td>0.646859</td>\n",
              "      <td>2.362041</td>\n",
              "      <td>0.120543</td>\n",
              "      <td>0.575806</td>\n",
              "      <td>0.105263</td>\n",
              "      <td>0.179966</td>\n",
              "      <td>0.059423</td>\n",
              "      <td>0.0</td>\n",
              "      <td>0.006791</td>\n",
              "      <td>0.057725</td>\n",
              "      <td>0.025467</td>\n",
              "      <td>0.001698</td>\n",
              "      <td>0.0</td>\n",
              "      <td>0.001698</td>\n",
              "      <td>0.0</td>\n",
              "      <td>0.022071</td>\n",
              "      <td>0.001698</td>\n",
              "      <td>0.003396</td>\n",
              "      <td>0.100170</td>\n",
              "      <td>0.028862</td>\n",
              "      <td>0.003396</td>\n",
              "      <td>0.025467</td>\n",
              "      <td>0.025467</td>\n",
              "      <td>0.042445</td>\n",
              "      <td>0.091681</td>\n",
              "      <td>0.061121</td>\n",
              "      <td>0.062818</td>\n",
              "    </tr>\n",
              "    <tr>\n",
              "      <th>std</th>\n",
              "      <td>8.964460</td>\n",
              "      <td>1.656494</td>\n",
              "      <td>2.938498</td>\n",
              "      <td>1.507535</td>\n",
              "      <td>0.348231</td>\n",
              "      <td>4.363316</td>\n",
              "      <td>2.460488</td>\n",
              "      <td>0.478352</td>\n",
              "      <td>3.851610</td>\n",
              "      <td>0.325873</td>\n",
              "      <td>2.099984</td>\n",
              "      <td>0.307153</td>\n",
              "      <td>0.572801</td>\n",
              "      <td>0.236615</td>\n",
              "      <td>0.0</td>\n",
              "      <td>0.082198</td>\n",
              "      <td>0.233421</td>\n",
              "      <td>0.157672</td>\n",
              "      <td>0.041204</td>\n",
              "      <td>0.0</td>\n",
              "      <td>0.041204</td>\n",
              "      <td>0.0</td>\n",
              "      <td>0.147040</td>\n",
              "      <td>0.041204</td>\n",
              "      <td>0.058222</td>\n",
              "      <td>0.322327</td>\n",
              "      <td>0.167562</td>\n",
              "      <td>0.058222</td>\n",
              "      <td>0.157672</td>\n",
              "      <td>0.157672</td>\n",
              "      <td>0.201773</td>\n",
              "      <td>0.288820</td>\n",
              "      <td>0.239755</td>\n",
              "      <td>0.242842</td>\n",
              "    </tr>\n",
              "    <tr>\n",
              "      <th>min</th>\n",
              "      <td>13.000000</td>\n",
              "      <td>1.000000</td>\n",
              "      <td>10.000000</td>\n",
              "      <td>0.000000</td>\n",
              "      <td>0.000000</td>\n",
              "      <td>0.000000</td>\n",
              "      <td>0.000000</td>\n",
              "      <td>0.000000</td>\n",
              "      <td>0.000000</td>\n",
              "      <td>0.000000</td>\n",
              "      <td>0.000000</td>\n",
              "      <td>0.000000</td>\n",
              "      <td>0.000000</td>\n",
              "      <td>0.000000</td>\n",
              "      <td>0.0</td>\n",
              "      <td>0.000000</td>\n",
              "      <td>0.000000</td>\n",
              "      <td>0.000000</td>\n",
              "      <td>0.000000</td>\n",
              "      <td>0.0</td>\n",
              "      <td>0.000000</td>\n",
              "      <td>0.0</td>\n",
              "      <td>0.000000</td>\n",
              "      <td>0.000000</td>\n",
              "      <td>0.000000</td>\n",
              "      <td>0.000000</td>\n",
              "      <td>0.000000</td>\n",
              "      <td>0.000000</td>\n",
              "      <td>0.000000</td>\n",
              "      <td>0.000000</td>\n",
              "      <td>0.000000</td>\n",
              "      <td>0.000000</td>\n",
              "      <td>0.000000</td>\n",
              "      <td>0.000000</td>\n",
              "    </tr>\n",
              "    <tr>\n",
              "      <th>25%</th>\n",
              "      <td>21.000000</td>\n",
              "      <td>2.000000</td>\n",
              "      <td>15.000000</td>\n",
              "      <td>1.000000</td>\n",
              "      <td>0.000000</td>\n",
              "      <td>0.000000</td>\n",
              "      <td>0.000000</td>\n",
              "      <td>0.000000</td>\n",
              "      <td>0.000000</td>\n",
              "      <td>0.000000</td>\n",
              "      <td>0.000000</td>\n",
              "      <td>0.000000</td>\n",
              "      <td>0.000000</td>\n",
              "      <td>0.000000</td>\n",
              "      <td>0.0</td>\n",
              "      <td>0.000000</td>\n",
              "      <td>0.000000</td>\n",
              "      <td>0.000000</td>\n",
              "      <td>0.000000</td>\n",
              "      <td>0.0</td>\n",
              "      <td>0.000000</td>\n",
              "      <td>0.0</td>\n",
              "      <td>0.000000</td>\n",
              "      <td>0.000000</td>\n",
              "      <td>0.000000</td>\n",
              "      <td>0.000000</td>\n",
              "      <td>0.000000</td>\n",
              "      <td>0.000000</td>\n",
              "      <td>0.000000</td>\n",
              "      <td>0.000000</td>\n",
              "      <td>0.000000</td>\n",
              "      <td>0.000000</td>\n",
              "      <td>0.000000</td>\n",
              "      <td>0.000000</td>\n",
              "    </tr>\n",
              "    <tr>\n",
              "      <th>50%</th>\n",
              "      <td>27.000000</td>\n",
              "      <td>2.000000</td>\n",
              "      <td>17.000000</td>\n",
              "      <td>2.000000</td>\n",
              "      <td>0.000000</td>\n",
              "      <td>0.000000</td>\n",
              "      <td>0.000000</td>\n",
              "      <td>1.000000</td>\n",
              "      <td>0.500000</td>\n",
              "      <td>0.000000</td>\n",
              "      <td>0.000000</td>\n",
              "      <td>0.000000</td>\n",
              "      <td>0.000000</td>\n",
              "      <td>0.000000</td>\n",
              "      <td>0.0</td>\n",
              "      <td>0.000000</td>\n",
              "      <td>0.000000</td>\n",
              "      <td>0.000000</td>\n",
              "      <td>0.000000</td>\n",
              "      <td>0.0</td>\n",
              "      <td>0.000000</td>\n",
              "      <td>0.0</td>\n",
              "      <td>0.000000</td>\n",
              "      <td>0.000000</td>\n",
              "      <td>0.000000</td>\n",
              "      <td>0.000000</td>\n",
              "      <td>0.000000</td>\n",
              "      <td>0.000000</td>\n",
              "      <td>0.000000</td>\n",
              "      <td>0.000000</td>\n",
              "      <td>0.000000</td>\n",
              "      <td>0.000000</td>\n",
              "      <td>0.000000</td>\n",
              "      <td>0.000000</td>\n",
              "    </tr>\n",
              "    <tr>\n",
              "      <th>75%</th>\n",
              "      <td>33.000000</td>\n",
              "      <td>3.000000</td>\n",
              "      <td>18.000000</td>\n",
              "      <td>3.000000</td>\n",
              "      <td>0.000000</td>\n",
              "      <td>0.000000</td>\n",
              "      <td>0.000000</td>\n",
              "      <td>1.000000</td>\n",
              "      <td>3.000000</td>\n",
              "      <td>0.000000</td>\n",
              "      <td>0.000000</td>\n",
              "      <td>0.000000</td>\n",
              "      <td>0.000000</td>\n",
              "      <td>0.000000</td>\n",
              "      <td>0.0</td>\n",
              "      <td>0.000000</td>\n",
              "      <td>0.000000</td>\n",
              "      <td>0.000000</td>\n",
              "      <td>0.000000</td>\n",
              "      <td>0.0</td>\n",
              "      <td>0.000000</td>\n",
              "      <td>0.0</td>\n",
              "      <td>0.000000</td>\n",
              "      <td>0.000000</td>\n",
              "      <td>0.000000</td>\n",
              "      <td>0.000000</td>\n",
              "      <td>0.000000</td>\n",
              "      <td>0.000000</td>\n",
              "      <td>0.000000</td>\n",
              "      <td>0.000000</td>\n",
              "      <td>0.000000</td>\n",
              "      <td>0.000000</td>\n",
              "      <td>0.000000</td>\n",
              "      <td>0.000000</td>\n",
              "    </tr>\n",
              "    <tr>\n",
              "      <th>max</th>\n",
              "      <td>84.000000</td>\n",
              "      <td>28.000000</td>\n",
              "      <td>32.000000</td>\n",
              "      <td>11.000000</td>\n",
              "      <td>1.000000</td>\n",
              "      <td>37.000000</td>\n",
              "      <td>37.000000</td>\n",
              "      <td>1.000000</td>\n",
              "      <td>22.000000</td>\n",
              "      <td>1.000000</td>\n",
              "      <td>19.000000</td>\n",
              "      <td>1.000000</td>\n",
              "      <td>4.000000</td>\n",
              "      <td>1.000000</td>\n",
              "      <td>0.0</td>\n",
              "      <td>1.000000</td>\n",
              "      <td>1.000000</td>\n",
              "      <td>1.000000</td>\n",
              "      <td>1.000000</td>\n",
              "      <td>0.0</td>\n",
              "      <td>1.000000</td>\n",
              "      <td>0.0</td>\n",
              "      <td>1.000000</td>\n",
              "      <td>1.000000</td>\n",
              "      <td>1.000000</td>\n",
              "      <td>3.000000</td>\n",
              "      <td>1.000000</td>\n",
              "      <td>1.000000</td>\n",
              "      <td>1.000000</td>\n",
              "      <td>1.000000</td>\n",
              "      <td>1.000000</td>\n",
              "      <td>1.000000</td>\n",
              "      <td>1.000000</td>\n",
              "      <td>1.000000</td>\n",
              "    </tr>\n",
              "  </tbody>\n",
              "</table>\n",
              "</div>"
            ],
            "text/plain": [
              "              Age  Number_of_sexual_partners  ...    Citology      Biopsy\n",
              "count  589.000000                 589.000000  ...  589.000000  589.000000\n",
              "mean    27.860781                   2.555178  ...    0.061121    0.062818\n",
              "std      8.964460                   1.656494  ...    0.239755    0.242842\n",
              "min     13.000000                   1.000000  ...    0.000000    0.000000\n",
              "25%     21.000000                   2.000000  ...    0.000000    0.000000\n",
              "50%     27.000000                   2.000000  ...    0.000000    0.000000\n",
              "75%     33.000000                   3.000000  ...    0.000000    0.000000\n",
              "max     84.000000                  28.000000  ...    1.000000    1.000000\n",
              "\n",
              "[8 rows x 34 columns]"
            ]
          },
          "metadata": {
            "tags": []
          },
          "execution_count": 199
        }
      ]
    },
    {
      "cell_type": "code",
      "metadata": {
        "colab": {
          "base_uri": "https://localhost:8080/"
        },
        "id": "FnVOxmFk6Wga",
        "outputId": "343e6061-6eba-4fb5-89ab-1b2a816acfa0"
      },
      "source": [
        "import os\n",
        "print(os.listdir(\"/content\"))"
      ],
      "execution_count": null,
      "outputs": [
        {
          "output_type": "stream",
          "text": [
            "['.config', 'drive', 'sample_data']\n"
          ],
          "name": "stdout"
        }
      ]
    },
    {
      "cell_type": "code",
      "metadata": {
        "id": "-AtkErE76iHx"
      },
      "source": [
        "%matplotlib inline\n",
        "import random\n",
        "from pprint import pprint"
      ],
      "execution_count": null,
      "outputs": []
    },
    {
      "cell_type": "code",
      "metadata": {
        "colab": {
          "base_uri": "https://localhost:8080/",
          "height": 258
        },
        "id": "88fRMnR96qm8",
        "outputId": "e6469c95-1cbf-40fb-fb0a-7a16b74c66ef"
      },
      "source": [
        "snarp.head(5)"
      ],
      "execution_count": null,
      "outputs": [
        {
          "output_type": "execute_result",
          "data": {
            "text/html": [
              "<div>\n",
              "<style scoped>\n",
              "    .dataframe tbody tr th:only-of-type {\n",
              "        vertical-align: middle;\n",
              "    }\n",
              "\n",
              "    .dataframe tbody tr th {\n",
              "        vertical-align: top;\n",
              "    }\n",
              "\n",
              "    .dataframe thead th {\n",
              "        text-align: right;\n",
              "    }\n",
              "</style>\n",
              "<table border=\"1\" class=\"dataframe\">\n",
              "  <thead>\n",
              "    <tr style=\"text-align: right;\">\n",
              "      <th></th>\n",
              "      <th>Age</th>\n",
              "      <th>Number_of_sexual_partners</th>\n",
              "      <th>First sexual intercourse</th>\n",
              "      <th>Num of pregnancies</th>\n",
              "      <th>Smokes</th>\n",
              "      <th>Smokes (years)</th>\n",
              "      <th>Smokes (packs/year)</th>\n",
              "      <th>Hormonal Contraceptives</th>\n",
              "      <th>Hormonal Contraceptives (years)</th>\n",
              "      <th>IUD</th>\n",
              "      <th>IUD (years)</th>\n",
              "      <th>STDs</th>\n",
              "      <th>STDs (number)</th>\n",
              "      <th>STDs:condylomatosis</th>\n",
              "      <th>STDs:cervical condylomatosis</th>\n",
              "      <th>STDs:vaginal condylomatosis</th>\n",
              "      <th>STDs:vulvo-perineal condylomatosis</th>\n",
              "      <th>STDs:syphilis</th>\n",
              "      <th>STDs:pelvic inflammatory disease</th>\n",
              "      <th>STDs:genital herpes</th>\n",
              "      <th>STDs:molluscum contagiosum</th>\n",
              "      <th>STDs:AIDS</th>\n",
              "      <th>STDs:HIV</th>\n",
              "      <th>STDs:Hepatitis B</th>\n",
              "      <th>STDs:HPV</th>\n",
              "      <th>STDs: Number of diagnosis</th>\n",
              "      <th>Dx:Cancer</th>\n",
              "      <th>Dx:CIN</th>\n",
              "      <th>Dx:HPV</th>\n",
              "      <th>Dx</th>\n",
              "      <th>Hinselmann</th>\n",
              "      <th>Schiller</th>\n",
              "      <th>Citology</th>\n",
              "      <th>Biopsy</th>\n",
              "    </tr>\n",
              "  </thead>\n",
              "  <tbody>\n",
              "    <tr>\n",
              "      <th>0</th>\n",
              "      <td>18</td>\n",
              "      <td>4</td>\n",
              "      <td>15</td>\n",
              "      <td>1</td>\n",
              "      <td>0</td>\n",
              "      <td>0.0</td>\n",
              "      <td>0.0</td>\n",
              "      <td>0</td>\n",
              "      <td>0.0</td>\n",
              "      <td>0</td>\n",
              "      <td>0.0</td>\n",
              "      <td>0</td>\n",
              "      <td>0</td>\n",
              "      <td>0</td>\n",
              "      <td>0</td>\n",
              "      <td>0</td>\n",
              "      <td>0</td>\n",
              "      <td>0</td>\n",
              "      <td>0</td>\n",
              "      <td>0</td>\n",
              "      <td>0</td>\n",
              "      <td>0</td>\n",
              "      <td>0</td>\n",
              "      <td>0</td>\n",
              "      <td>0</td>\n",
              "      <td>0</td>\n",
              "      <td>0</td>\n",
              "      <td>0</td>\n",
              "      <td>0</td>\n",
              "      <td>0</td>\n",
              "      <td>0</td>\n",
              "      <td>0</td>\n",
              "      <td>0</td>\n",
              "      <td>0</td>\n",
              "    </tr>\n",
              "    <tr>\n",
              "      <th>1</th>\n",
              "      <td>15</td>\n",
              "      <td>1</td>\n",
              "      <td>14</td>\n",
              "      <td>1</td>\n",
              "      <td>0</td>\n",
              "      <td>0.0</td>\n",
              "      <td>0.0</td>\n",
              "      <td>0</td>\n",
              "      <td>0.0</td>\n",
              "      <td>0</td>\n",
              "      <td>0.0</td>\n",
              "      <td>0</td>\n",
              "      <td>0</td>\n",
              "      <td>0</td>\n",
              "      <td>0</td>\n",
              "      <td>0</td>\n",
              "      <td>0</td>\n",
              "      <td>0</td>\n",
              "      <td>0</td>\n",
              "      <td>0</td>\n",
              "      <td>0</td>\n",
              "      <td>0</td>\n",
              "      <td>0</td>\n",
              "      <td>0</td>\n",
              "      <td>0</td>\n",
              "      <td>0</td>\n",
              "      <td>0</td>\n",
              "      <td>0</td>\n",
              "      <td>0</td>\n",
              "      <td>0</td>\n",
              "      <td>0</td>\n",
              "      <td>0</td>\n",
              "      <td>0</td>\n",
              "      <td>0</td>\n",
              "    </tr>\n",
              "    <tr>\n",
              "      <th>2</th>\n",
              "      <td>52</td>\n",
              "      <td>5</td>\n",
              "      <td>16</td>\n",
              "      <td>4</td>\n",
              "      <td>1</td>\n",
              "      <td>37.0</td>\n",
              "      <td>37.0</td>\n",
              "      <td>1</td>\n",
              "      <td>3.0</td>\n",
              "      <td>0</td>\n",
              "      <td>0.0</td>\n",
              "      <td>0</td>\n",
              "      <td>0</td>\n",
              "      <td>0</td>\n",
              "      <td>0</td>\n",
              "      <td>0</td>\n",
              "      <td>0</td>\n",
              "      <td>0</td>\n",
              "      <td>0</td>\n",
              "      <td>0</td>\n",
              "      <td>0</td>\n",
              "      <td>0</td>\n",
              "      <td>0</td>\n",
              "      <td>0</td>\n",
              "      <td>0</td>\n",
              "      <td>0</td>\n",
              "      <td>1</td>\n",
              "      <td>0</td>\n",
              "      <td>1</td>\n",
              "      <td>0</td>\n",
              "      <td>0</td>\n",
              "      <td>0</td>\n",
              "      <td>0</td>\n",
              "      <td>0</td>\n",
              "    </tr>\n",
              "    <tr>\n",
              "      <th>3</th>\n",
              "      <td>46</td>\n",
              "      <td>3</td>\n",
              "      <td>21</td>\n",
              "      <td>4</td>\n",
              "      <td>0</td>\n",
              "      <td>0.0</td>\n",
              "      <td>0.0</td>\n",
              "      <td>1</td>\n",
              "      <td>15.0</td>\n",
              "      <td>0</td>\n",
              "      <td>0.0</td>\n",
              "      <td>0</td>\n",
              "      <td>0</td>\n",
              "      <td>0</td>\n",
              "      <td>0</td>\n",
              "      <td>0</td>\n",
              "      <td>0</td>\n",
              "      <td>0</td>\n",
              "      <td>0</td>\n",
              "      <td>0</td>\n",
              "      <td>0</td>\n",
              "      <td>0</td>\n",
              "      <td>0</td>\n",
              "      <td>0</td>\n",
              "      <td>0</td>\n",
              "      <td>0</td>\n",
              "      <td>0</td>\n",
              "      <td>0</td>\n",
              "      <td>0</td>\n",
              "      <td>0</td>\n",
              "      <td>0</td>\n",
              "      <td>0</td>\n",
              "      <td>0</td>\n",
              "      <td>0</td>\n",
              "    </tr>\n",
              "    <tr>\n",
              "      <th>4</th>\n",
              "      <td>42</td>\n",
              "      <td>3</td>\n",
              "      <td>23</td>\n",
              "      <td>2</td>\n",
              "      <td>0</td>\n",
              "      <td>0.0</td>\n",
              "      <td>0.0</td>\n",
              "      <td>0</td>\n",
              "      <td>0.0</td>\n",
              "      <td>0</td>\n",
              "      <td>0.0</td>\n",
              "      <td>0</td>\n",
              "      <td>0</td>\n",
              "      <td>0</td>\n",
              "      <td>0</td>\n",
              "      <td>0</td>\n",
              "      <td>0</td>\n",
              "      <td>0</td>\n",
              "      <td>0</td>\n",
              "      <td>0</td>\n",
              "      <td>0</td>\n",
              "      <td>0</td>\n",
              "      <td>0</td>\n",
              "      <td>0</td>\n",
              "      <td>0</td>\n",
              "      <td>0</td>\n",
              "      <td>0</td>\n",
              "      <td>0</td>\n",
              "      <td>0</td>\n",
              "      <td>0</td>\n",
              "      <td>0</td>\n",
              "      <td>0</td>\n",
              "      <td>0</td>\n",
              "      <td>0</td>\n",
              "    </tr>\n",
              "  </tbody>\n",
              "</table>\n",
              "</div>"
            ],
            "text/plain": [
              "   Age  Number_of_sexual_partners  ...  Citology  Biopsy\n",
              "0   18                          4  ...         0       0\n",
              "1   15                          1  ...         0       0\n",
              "2   52                          5  ...         0       0\n",
              "3   46                          3  ...         0       0\n",
              "4   42                          3  ...         0       0\n",
              "\n",
              "[5 rows x 34 columns]"
            ]
          },
          "metadata": {
            "tags": []
          },
          "execution_count": 202
        }
      ]
    },
    {
      "cell_type": "code",
      "metadata": {
        "id": "yC4ElGOxM2yi"
      },
      "source": [
        "pima = snarp.iloc[:,1:].values"
      ],
      "execution_count": null,
      "outputs": []
    },
    {
      "cell_type": "code",
      "metadata": {
        "colab": {
          "base_uri": "https://localhost:8080/"
        },
        "id": "5JVMPr-x7ijc",
        "outputId": "4a7448f7-a724-4991-bcde-68f66ecd2628"
      },
      "source": [
        "print(type(pima))"
      ],
      "execution_count": null,
      "outputs": [
        {
          "output_type": "stream",
          "text": [
            "<class 'numpy.ndarray'>\n"
          ],
          "name": "stdout"
        }
      ]
    },
    {
      "cell_type": "code",
      "metadata": {
        "colab": {
          "base_uri": "https://localhost:8080/"
        },
        "id": "_Xv3vXPf7sEN",
        "outputId": "7195006b-3706-4a85-f16e-fe7ac6b927ff"
      },
      "source": [
        "pima.shape"
      ],
      "execution_count": null,
      "outputs": [
        {
          "output_type": "execute_result",
          "data": {
            "text/plain": [
              "(589, 33)"
            ]
          },
          "metadata": {
            "tags": []
          },
          "execution_count": 205
        }
      ]
    },
    {
      "cell_type": "code",
      "metadata": {
        "id": "MVbUMqA28Ms5"
      },
      "source": [
        "age = snarp[\"Age\"].values"
      ],
      "execution_count": null,
      "outputs": []
    },
    {
      "cell_type": "code",
      "metadata": {
        "id": "1YHWR62c8XfH"
      },
      "source": [
        "number_of_sexual_partners = snarp[\"Number_of_sexual_partners\"].values"
      ],
      "execution_count": null,
      "outputs": []
    },
    {
      "cell_type": "code",
      "metadata": {
        "id": "JRItgFLz8Xgt"
      },
      "source": [
        "first_sexual_intercourse = snarp[\"First sexual intercourse\"].values"
      ],
      "execution_count": null,
      "outputs": []
    },
    {
      "cell_type": "code",
      "metadata": {
        "id": "S3pnFJ3l8x9e"
      },
      "source": [
        "number_of_pregnancies = snarp[\"Num of pregnancies\"].values"
      ],
      "execution_count": null,
      "outputs": []
    },
    {
      "cell_type": "code",
      "metadata": {
        "id": "LOlpxEIT8x_w"
      },
      "source": [
        "smokes = snarp[\"Smokes\"].values"
      ],
      "execution_count": null,
      "outputs": []
    },
    {
      "cell_type": "code",
      "metadata": {
        "id": "PmFtKkITEnYL"
      },
      "source": [
        "smokes_years = snarp[\"Smokes (years)\"].values"
      ],
      "execution_count": null,
      "outputs": []
    },
    {
      "cell_type": "code",
      "metadata": {
        "id": "sksfG3eBEti0"
      },
      "source": [
        "smokes_packs_years = snarp[\"Smokes (packs/year)\"].values"
      ],
      "execution_count": null,
      "outputs": []
    },
    {
      "cell_type": "code",
      "metadata": {
        "id": "VaGpArJaE2Fq"
      },
      "source": [
        "hormonal_contraceptives = snarp[\"Hormonal Contraceptives\"].values"
      ],
      "execution_count": null,
      "outputs": []
    },
    {
      "cell_type": "code",
      "metadata": {
        "id": "0K2fjoWMFAFv"
      },
      "source": [
        "hormonal_contraceptives_years = snarp[\"Hormonal Contraceptives (years)\"].values"
      ],
      "execution_count": null,
      "outputs": []
    },
    {
      "cell_type": "code",
      "metadata": {
        "id": "4QwMv2d-FH_4"
      },
      "source": [
        "iud = snarp[\"IUD\"].values"
      ],
      "execution_count": null,
      "outputs": []
    },
    {
      "cell_type": "code",
      "metadata": {
        "id": "VVGLZiM0FOdm"
      },
      "source": [
        "std = snarp[\"STDs\"].values"
      ],
      "execution_count": null,
      "outputs": []
    },
    {
      "cell_type": "code",
      "metadata": {
        "id": "eUgO05M3FbA6"
      },
      "source": [
        "std_number = snarp[\"STDs (number)\"].values"
      ],
      "execution_count": null,
      "outputs": []
    },
    {
      "cell_type": "code",
      "metadata": {
        "id": "bTUCzvJuFzkr"
      },
      "source": [
        "std_condylomatosis = snarp[\"STDs:condylomatosis\"].values"
      ],
      "execution_count": null,
      "outputs": []
    },
    {
      "cell_type": "code",
      "metadata": {
        "id": "iYdbwL3SFzmW"
      },
      "source": [
        "std_cervical_condylomatosis = snarp[\"STDs:cervical condylomatosis\"].values"
      ],
      "execution_count": null,
      "outputs": []
    },
    {
      "cell_type": "code",
      "metadata": {
        "id": "kuAvEkuSGZyk"
      },
      "source": [
        "std_vaginal_condylomatosis = snarp[\"STDs:vaginal condylomatosis\"].values"
      ],
      "execution_count": null,
      "outputs": []
    },
    {
      "cell_type": "code",
      "metadata": {
        "id": "PDFU7pFiGZ9w"
      },
      "source": [
        "std_vulvo_perineal_condylomatosis = snarp[\"STDs:vulvo-perineal condylomatosis\"].values"
      ],
      "execution_count": null,
      "outputs": []
    },
    {
      "cell_type": "code",
      "metadata": {
        "id": "atHv3RvIGaEl"
      },
      "source": [
        "std_syphilis = snarp[\"STDs:syphilis\"].values"
      ],
      "execution_count": null,
      "outputs": []
    },
    {
      "cell_type": "code",
      "metadata": {
        "id": "OP81EtL9GaGe"
      },
      "source": [
        "std_pelvic_inflammatory_disease = snarp[\"STDs:pelvic inflammatory disease\"].values"
      ],
      "execution_count": null,
      "outputs": []
    },
    {
      "cell_type": "code",
      "metadata": {
        "id": "dBDHCRWbGaQo"
      },
      "source": [
        "std_genital_herpes = snarp[\"STDs:genital herpes\"].values"
      ],
      "execution_count": null,
      "outputs": []
    },
    {
      "cell_type": "code",
      "metadata": {
        "id": "ldmMzYDdGadA"
      },
      "source": [
        "std_molluscum_contagiosum = snarp[\"STDs:molluscum contagiosum\"].values"
      ],
      "execution_count": null,
      "outputs": []
    },
    {
      "cell_type": "code",
      "metadata": {
        "id": "v4tXC25DGaen"
      },
      "source": [
        "std_cervical_condylomatosis = snarp[\"STDs:cervical condylomatosis\"].values"
      ],
      "execution_count": null,
      "outputs": []
    },
    {
      "cell_type": "code",
      "metadata": {
        "id": "erx0Pwm7Gawr"
      },
      "source": [
        "std_aids = snarp[\"STDs:AIDS\"].values"
      ],
      "execution_count": null,
      "outputs": []
    },
    {
      "cell_type": "code",
      "metadata": {
        "id": "TBZy7YxYHdan"
      },
      "source": [
        "std_hiv = snarp[\"STDs:HIV\"].values"
      ],
      "execution_count": null,
      "outputs": []
    },
    {
      "cell_type": "code",
      "metadata": {
        "id": "KgJf8ETeHdd9"
      },
      "source": [
        "std_hepatitisB = snarp[\"STDs:Hepatitis B\"].values"
      ],
      "execution_count": null,
      "outputs": []
    },
    {
      "cell_type": "code",
      "metadata": {
        "id": "463g7dnTHdqD"
      },
      "source": [
        "std_hpv = snarp[\"STDs:HPV\"].values"
      ],
      "execution_count": null,
      "outputs": []
    },
    {
      "cell_type": "code",
      "metadata": {
        "id": "Sv9sd1K6Hdr7"
      },
      "source": [
        "std_num_of_diagnosis = snarp[\"STDs: Number of diagnosis\"].values"
      ],
      "execution_count": null,
      "outputs": []
    },
    {
      "cell_type": "code",
      "metadata": {
        "id": "YXYrkfrFHdy9"
      },
      "source": [
        "cancer = snarp[\"Dx:Cancer\"].values"
      ],
      "execution_count": null,
      "outputs": []
    },
    {
      "cell_type": "code",
      "metadata": {
        "id": "QvWpcge4Hd8C"
      },
      "source": [
        "cin = snarp[\"Dx:CIN\"].values"
      ],
      "execution_count": null,
      "outputs": []
    },
    {
      "cell_type": "code",
      "metadata": {
        "id": "KWDR5gM7Hd9w"
      },
      "source": [
        "hpv = snarp[\"Dx:HPV\"].values"
      ],
      "execution_count": null,
      "outputs": []
    },
    {
      "cell_type": "code",
      "metadata": {
        "id": "9B7fyJy5HeFE"
      },
      "source": [
        "dx = snarp[\"Dx\"].values"
      ],
      "execution_count": null,
      "outputs": []
    },
    {
      "cell_type": "code",
      "metadata": {
        "id": "hPgwCjWSIT0W"
      },
      "source": [
        "hinselmann = snarp[\"Hinselmann\"].values"
      ],
      "execution_count": null,
      "outputs": []
    },
    {
      "cell_type": "code",
      "metadata": {
        "id": "jDa2G8HzIT2m"
      },
      "source": [
        "schiller = snarp[\"Schiller\"].values"
      ],
      "execution_count": null,
      "outputs": []
    },
    {
      "cell_type": "code",
      "metadata": {
        "id": "9MIVUfqzIT-T"
      },
      "source": [
        "citology = snarp[\"Citology\"].values"
      ],
      "execution_count": null,
      "outputs": []
    },
    {
      "cell_type": "code",
      "metadata": {
        "id": "Ig3gGmP8IhMO"
      },
      "source": [
        "biopsy = snarp[\"Biopsy\"].values"
      ],
      "execution_count": null,
      "outputs": []
    },
    {
      "cell_type": "code",
      "metadata": {
        "id": "W1EH5x3pOANY"
      },
      "source": [
        "from keras.models import Sequential\n",
        "from keras.layers import Dense\n",
        "from keras.layers import SimpleRNN\n",
        "from keras.layers import Dropout\n",
        "from keras.layers import Flatten\n",
        "from keras.layers import LSTM\n",
        "from keras.optimizers import Adam\n",
        "from keras.callbacks import EarlyStopping, ReduceLROnPlateau, ModelCheckpoint, TensorBoard, ProgbarLogger\n",
        "from keras import metrics\n",
        "from sklearn import metrics\n",
        "from sklearn.metrics import confusion_matrix, classification_report, accuracy_score\n",
        "from sklearn.preprocessing import LabelEncoder\n",
        "import itertools\n",
        "from sklearn.model_selection import train_test_split"
      ],
      "execution_count": null,
      "outputs": []
    },
    {
      "cell_type": "code",
      "metadata": {
        "id": "hwtfAxkTOAOv"
      },
      "source": [
        "input_shape=(4,1)"
      ],
      "execution_count": null,
      "outputs": []
    },
    {
      "cell_type": "code",
      "metadata": {
        "colab": {
          "base_uri": "https://localhost:8080/"
        },
        "id": "n-q54xs7QQL0",
        "outputId": "a1a0cd00-9eb3-4d3f-d716-18b6fa9c27f0"
      },
      "source": [
        "#Initialize RNN:\n",
        "model = Sequential()\n",
        "\n",
        "#Adding the first RNN layer and some Dropout regularization\n",
        "model.add(LSTM(units = 220, dropout=0.05, recurrent_dropout=0.20, return_sequences=True, input_shape= (4,1)))\n",
        "\n",
        "#Adding the second RNN layer and some Dropout regularization\n",
        "model.add(LSTM(units = 150, dropout=0.05, recurrent_dropout=0.20, return_sequences=True))\n",
        "\n",
        "#Adding the third RNN layer and some Dropout regularization\n",
        "model.add(LSTM(units = 64, dropout=0.05, recurrent_dropout=0.20, return_sequences=False))\n",
        "\n",
        "#Adding the output layer\n",
        "model.add(Dense(128, activation='relu'))\n",
        "model.add(Dense(64, activation='relu'))\n",
        "model.add(Dense(28, activation='relu'))\n",
        "model.add(Dense(2, activation='softmax'))\n",
        "\n",
        "#Compile the RNN\n",
        "model.compile(optimizer='adamax', loss='categorical_crossentropy' , metrics=['acc','mse', 'mae', 'mape'])\n",
        "\n",
        "#Fitting the RNN to the Training set\n",
        "model.summary()"
      ],
      "execution_count": null,
      "outputs": [
        {
          "output_type": "stream",
          "text": [
            "Model: \"sequential_3\"\n",
            "_________________________________________________________________\n",
            "Layer (type)                 Output Shape              Param #   \n",
            "=================================================================\n",
            "lstm_9 (LSTM)                (None, 4, 220)            195360    \n",
            "_________________________________________________________________\n",
            "lstm_10 (LSTM)               (None, 4, 150)            222600    \n",
            "_________________________________________________________________\n",
            "lstm_11 (LSTM)               (None, 64)                55040     \n",
            "_________________________________________________________________\n",
            "dense_12 (Dense)             (None, 128)               8320      \n",
            "_________________________________________________________________\n",
            "dense_13 (Dense)             (None, 64)                8256      \n",
            "_________________________________________________________________\n",
            "dense_14 (Dense)             (None, 28)                1820      \n",
            "_________________________________________________________________\n",
            "dense_15 (Dense)             (None, 2)                 58        \n",
            "=================================================================\n",
            "Total params: 491,454\n",
            "Trainable params: 491,454\n",
            "Non-trainable params: 0\n",
            "_________________________________________________________________\n"
          ],
          "name": "stdout"
        }
      ]
    },
    {
      "cell_type": "code",
      "metadata": {
        "id": "xA9A8JQJQ7bk"
      },
      "source": [
        "x = age*number_of_sexual_partners*number_of_pregnancies"
      ],
      "execution_count": null,
      "outputs": []
    },
    {
      "cell_type": "code",
      "metadata": {
        "id": "XtYXkXanRHen"
      },
      "source": [
        "y = cancer"
      ],
      "execution_count": null,
      "outputs": []
    },
    {
      "cell_type": "code",
      "metadata": {
        "colab": {
          "base_uri": "https://localhost:8080/"
        },
        "id": "dPD4wyNVRYyO",
        "outputId": "3f35cadb-d2c4-4001-8c5c-c3581ea41c88"
      },
      "source": [
        "x.shape"
      ],
      "execution_count": null,
      "outputs": [
        {
          "output_type": "execute_result",
          "data": {
            "text/plain": [
              "(589,)"
            ]
          },
          "metadata": {
            "tags": []
          },
          "execution_count": 245
        }
      ]
    },
    {
      "cell_type": "code",
      "metadata": {
        "id": "z6Ct7g1GRsRg"
      },
      "source": [
        "x = np.delete(x, 588)"
      ],
      "execution_count": null,
      "outputs": []
    },
    {
      "cell_type": "code",
      "metadata": {
        "colab": {
          "base_uri": "https://localhost:8080/"
        },
        "id": "ir2wyamcR65N",
        "outputId": "7a4a5d35-76ce-4feb-cdbd-c1faa96dc039"
      },
      "source": [
        "x.shape\n"
      ],
      "execution_count": null,
      "outputs": [
        {
          "output_type": "execute_result",
          "data": {
            "text/plain": [
              "(588,)"
            ]
          },
          "metadata": {
            "tags": []
          },
          "execution_count": 247
        }
      ]
    },
    {
      "cell_type": "code",
      "metadata": {
        "id": "2qs732LGR8V1"
      },
      "source": [
        "x = x.reshape(147,4,1)"
      ],
      "execution_count": null,
      "outputs": []
    },
    {
      "cell_type": "code",
      "metadata": {
        "id": "79p44JyzUrel"
      },
      "source": [
        "y = np.delete(y, 588)"
      ],
      "execution_count": null,
      "outputs": []
    },
    {
      "cell_type": "code",
      "metadata": {
        "colab": {
          "base_uri": "https://localhost:8080/"
        },
        "id": "xwG-k32WSfLM",
        "outputId": "09f92975-225a-4c58-f5ba-170878116a36"
      },
      "source": [
        "y.shape\n"
      ],
      "execution_count": null,
      "outputs": [
        {
          "output_type": "execute_result",
          "data": {
            "text/plain": [
              "(588,)"
            ]
          },
          "metadata": {
            "tags": []
          },
          "execution_count": 250
        }
      ]
    },
    {
      "cell_type": "code",
      "metadata": {
        "id": "lE0v6CH8SwW8"
      },
      "source": [
        "y = y.reshape(294,2)"
      ],
      "execution_count": null,
      "outputs": []
    },
    {
      "cell_type": "code",
      "metadata": {
        "colab": {
          "base_uri": "https://localhost:8080/"
        },
        "id": "JvA3ENAYS3rD",
        "outputId": "e1aa4765-db56-4622-a413-38c5ee31f8c1"
      },
      "source": [
        "history = model.fit(x, y, epochs=20, batch_size=64, verbose=1, validation_split=0.1)"
      ],
      "execution_count": null,
      "outputs": [
        {
          "output_type": "stream",
          "text": [
            "Epoch 1/20\n",
            "3/3 [==============================] - 14s 1s/step - loss: 0.0288 - acc: 0.9557 - mse: 0.2499 - mae: 0.4997 - mape: 489300848.0000 - val_loss: 0.0529 - val_acc: 0.9333 - val_mse: 0.2550 - val_mae: 0.5032 - val_mape: 484922720.0000\n",
            "Epoch 2/20\n",
            "3/3 [==============================] - 0s 65ms/step - loss: 0.0314 - acc: 0.9846 - mse: 0.2522 - mae: 0.4996 - mape: 488246720.0000 - val_loss: 0.0622 - val_acc: 0.9333 - val_mse: 0.2663 - val_mae: 0.5071 - val_mape: 486879584.0000\n",
            "Epoch 3/20\n",
            "3/3 [==============================] - 0s 68ms/step - loss: 0.0348 - acc: 0.9807 - mse: 0.2591 - mae: 0.4981 - mape: 485557864.0000 - val_loss: 0.0684 - val_acc: 0.9333 - val_mse: 0.2766 - val_mae: 0.5095 - val_mape: 488059040.0000\n",
            "Epoch 4/20\n",
            "3/3 [==============================] - 0s 64ms/step - loss: 0.0327 - acc: 0.9807 - mse: 0.2677 - mae: 0.4980 - mape: 486490560.0000 - val_loss: 0.0723 - val_acc: 0.9333 - val_mse: 0.2844 - val_mae: 0.5108 - val_mape: 488739104.0000\n",
            "Epoch 5/20\n",
            "3/3 [==============================] - 0s 64ms/step - loss: 0.0270 - acc: 0.9846 - mse: 0.2730 - mae: 0.4978 - mape: 488342136.0000 - val_loss: 0.0746 - val_acc: 0.9333 - val_mse: 0.2891 - val_mae: 0.5116 - val_mape: 489111232.0000\n",
            "Epoch 6/20\n",
            "3/3 [==============================] - 0s 64ms/step - loss: 0.0352 - acc: 0.9807 - mse: 0.2773 - mae: 0.4974 - mape: 485191232.0000 - val_loss: 0.0776 - val_acc: 0.9333 - val_mse: 0.2957 - val_mae: 0.5125 - val_mape: 489595488.0000\n",
            "Epoch 7/20\n",
            "3/3 [==============================] - 0s 65ms/step - loss: 0.0248 - acc: 0.9885 - mse: 0.2814 - mae: 0.4963 - mape: 487586768.0000 - val_loss: 0.0795 - val_acc: 0.9333 - val_mse: 0.3000 - val_mae: 0.5131 - val_mape: 489877952.0000\n",
            "Epoch 8/20\n",
            "3/3 [==============================] - 0s 64ms/step - loss: 0.0330 - acc: 0.9807 - mse: 0.2865 - mae: 0.4987 - mape: 487796888.0000 - val_loss: 0.0777 - val_acc: 0.9333 - val_mse: 0.2967 - val_mae: 0.5125 - val_mape: 489603392.0000\n",
            "Epoch 9/20\n",
            "3/3 [==============================] - 0s 65ms/step - loss: 0.0334 - acc: 0.9807 - mse: 0.2817 - mae: 0.4977 - mape: 486315448.0000 - val_loss: 0.0731 - val_acc: 0.9333 - val_mse: 0.2879 - val_mae: 0.5111 - val_mape: 488872832.0000\n",
            "Epoch 10/20\n",
            "3/3 [==============================] - 0s 66ms/step - loss: 0.0249 - acc: 0.9885 - mse: 0.2725 - mae: 0.4968 - mape: 487851200.0000 - val_loss: 0.0653 - val_acc: 0.9333 - val_mse: 0.2734 - val_mae: 0.5083 - val_mape: 487479840.0000\n",
            "Epoch 11/20\n",
            "3/3 [==============================] - 0s 64ms/step - loss: 0.0296 - acc: 0.9846 - mse: 0.2619 - mae: 0.4982 - mape: 487565072.0000 - val_loss: 0.0559 - val_acc: 0.9333 - val_mse: 0.2590 - val_mae: 0.5045 - val_mape: 485593472.0000\n",
            "Epoch 12/20\n",
            "3/3 [==============================] - 0s 63ms/step - loss: 0.0304 - acc: 0.9846 - mse: 0.2529 - mae: 0.4991 - mape: 487992192.0000 - val_loss: 0.0477 - val_acc: 0.9333 - val_mse: 0.2508 - val_mae: 0.5007 - val_mape: 483695136.0000\n",
            "Epoch 13/20\n",
            "3/3 [==============================] - 0s 66ms/step - loss: 0.0295 - acc: 0.7722 - mse: 0.2502 - mae: 0.5001 - mape: 489478784.0000 - val_loss: 0.0461 - val_acc: 0.0667 - val_mse: 0.2499 - val_mae: 0.4999 - val_mape: 483303712.0000\n",
            "Epoch 14/20\n",
            "3/3 [==============================] - 0s 63ms/step - loss: 0.0236 - acc: 0.5969 - mse: 0.2499 - mae: 0.4999 - mape: 491317048.0000 - val_loss: 0.0556 - val_acc: 0.9333 - val_mse: 0.2586 - val_mae: 0.5044 - val_mape: 485518528.0000\n",
            "Epoch 15/20\n",
            "3/3 [==============================] - 0s 65ms/step - loss: 0.0304 - acc: 0.9807 - mse: 0.2556 - mae: 0.4989 - mape: 487902632.0000 - val_loss: 0.0743 - val_acc: 0.9333 - val_mse: 0.2907 - val_mae: 0.5115 - val_mape: 489058848.0000\n",
            "Epoch 16/20\n",
            "3/3 [==============================] - 0s 63ms/step - loss: 0.0332 - acc: 0.9807 - mse: 0.2823 - mae: 0.4977 - mape: 486308192.0000 - val_loss: 0.0962 - val_acc: 0.9333 - val_mse: 0.3367 - val_mae: 0.5176 - val_mape: 492127968.0000\n",
            "Epoch 17/20\n",
            "3/3 [==============================] - 0s 62ms/step - loss: 0.0215 - acc: 0.9905 - mse: 0.3187 - mae: 0.4953 - mape: 488533328.0000 - val_loss: 0.1063 - val_acc: 0.9333 - val_mse: 0.3574 - val_mae: 0.5198 - val_mape: 493230080.0000\n",
            "Epoch 18/20\n",
            "3/3 [==============================] - 0s 65ms/step - loss: 0.0333 - acc: 0.9846 - mse: 0.3303 - mae: 0.4931 - mape: 483058344.0000 - val_loss: 0.0973 - val_acc: 0.9333 - val_mse: 0.3390 - val_mae: 0.5178 - val_mape: 492256608.0000\n",
            "Epoch 19/20\n",
            "3/3 [==============================] - 0s 66ms/step - loss: 0.0249 - acc: 0.9885 - mse: 0.3101 - mae: 0.4936 - mape: 485280520.0000 - val_loss: 0.0713 - val_acc: 0.9333 - val_mse: 0.2847 - val_mae: 0.5104 - val_mape: 488553120.0000\n",
            "Epoch 20/20\n",
            "3/3 [==============================] - 0s 66ms/step - loss: 0.0316 - acc: 0.9846 - mse: 0.2640 - mae: 0.4960 - mape: 484493448.0000 - val_loss: 0.0374 - val_acc: 0.0667 - val_mse: 0.2503 - val_mae: 0.4953 - val_mape: 480976864.0000\n"
          ],
          "name": "stdout"
        }
      ]
    },
    {
      "cell_type": "markdown",
      "metadata": {
        "id": "j5S9XXK4-ldD"
      },
      "source": [
        ""
      ]
    },
    {
      "cell_type": "code",
      "metadata": {
        "colab": {
          "base_uri": "https://localhost:8080/"
        },
        "id": "9qK5Yo0O6Sij",
        "outputId": "3f692ce4-d8a4-4068-8d5d-cd6a826c81a6"
      },
      "source": [
        "model = keras.Sequential([\n",
        "    keras.layers.Flatten(input_shape=(4,)),\n",
        "   keras.layers.Dense(4, activation=tf.nn.relu),\n",
        "\tkeras.layers.Dense(4, activation=tf.nn.relu),\n",
        "    keras.layers.Dense(1, activation=tf.nn.sigmoid),\n",
        "])\n",
        "model.compile(optimizer='adam',\n",
        "             loss='mse',\n",
        "             metrics=['accuracy'])\n",
        "\n",
        "history = model.fit(x, y, epochs=20, batch_size=64, verbose=1, validation_split=0.1)"
      ],
      "execution_count": null,
      "outputs": [
        {
          "output_type": "stream",
          "text": [
            "Epoch 1/20\n",
            "3/3 [==============================] - 1s 400ms/step - loss: 0.1363 - accuracy: 0.8864 - val_loss: 0.0351 - val_accuracy: 0.9667\n",
            "Epoch 2/20\n",
            "3/3 [==============================] - 0s 12ms/step - loss: 0.1250 - accuracy: 0.9091 - val_loss: 0.0352 - val_accuracy: 0.9667\n",
            "Epoch 3/20\n",
            "3/3 [==============================] - 0s 12ms/step - loss: 0.1223 - accuracy: 0.9091 - val_loss: 0.0353 - val_accuracy: 0.9667\n",
            "Epoch 4/20\n",
            "3/3 [==============================] - 0s 26ms/step - loss: 0.1196 - accuracy: 0.9091 - val_loss: 0.0354 - val_accuracy: 0.9667\n",
            "Epoch 5/20\n",
            "3/3 [==============================] - 0s 12ms/step - loss: 0.1181 - accuracy: 0.9091 - val_loss: 0.0355 - val_accuracy: 0.9667\n",
            "Epoch 6/20\n",
            "3/3 [==============================] - 0s 12ms/step - loss: 0.1166 - accuracy: 0.9091 - val_loss: 0.0356 - val_accuracy: 0.9667\n",
            "Epoch 7/20\n",
            "3/3 [==============================] - 0s 13ms/step - loss: 0.1151 - accuracy: 0.9091 - val_loss: 0.0356 - val_accuracy: 0.9667\n",
            "Epoch 8/20\n",
            "3/3 [==============================] - 0s 12ms/step - loss: 0.1132 - accuracy: 0.9091 - val_loss: 0.0357 - val_accuracy: 0.9667\n",
            "Epoch 9/20\n",
            "3/3 [==============================] - 0s 11ms/step - loss: 0.1103 - accuracy: 0.9091 - val_loss: 0.0357 - val_accuracy: 0.9667\n",
            "Epoch 10/20\n",
            "3/3 [==============================] - 0s 11ms/step - loss: 0.1072 - accuracy: 0.9091 - val_loss: 0.0357 - val_accuracy: 0.9667\n",
            "Epoch 11/20\n",
            "3/3 [==============================] - 0s 13ms/step - loss: 0.1044 - accuracy: 0.9091 - val_loss: 0.0360 - val_accuracy: 0.9667\n",
            "Epoch 12/20\n",
            "3/3 [==============================] - 0s 12ms/step - loss: 0.1019 - accuracy: 0.9167 - val_loss: 0.0364 - val_accuracy: 0.9667\n",
            "Epoch 13/20\n",
            "3/3 [==============================] - 0s 12ms/step - loss: 0.1002 - accuracy: 0.9167 - val_loss: 0.0367 - val_accuracy: 0.9667\n",
            "Epoch 14/20\n",
            "3/3 [==============================] - 0s 13ms/step - loss: 0.0988 - accuracy: 0.9167 - val_loss: 0.0370 - val_accuracy: 0.9667\n",
            "Epoch 15/20\n",
            "3/3 [==============================] - 0s 11ms/step - loss: 0.0973 - accuracy: 0.9167 - val_loss: 0.0372 - val_accuracy: 0.9667\n",
            "Epoch 16/20\n",
            "3/3 [==============================] - 0s 11ms/step - loss: 0.0958 - accuracy: 0.9318 - val_loss: 0.0374 - val_accuracy: 0.9667\n",
            "Epoch 17/20\n",
            "3/3 [==============================] - 0s 12ms/step - loss: 0.0952 - accuracy: 0.9318 - val_loss: 0.0375 - val_accuracy: 0.9667\n",
            "Epoch 18/20\n",
            "3/3 [==============================] - 0s 14ms/step - loss: 0.0946 - accuracy: 0.9318 - val_loss: 0.0376 - val_accuracy: 0.9667\n",
            "Epoch 19/20\n",
            "3/3 [==============================] - 0s 15ms/step - loss: 0.0940 - accuracy: 0.9318 - val_loss: 0.0376 - val_accuracy: 0.9667\n",
            "Epoch 20/20\n",
            "3/3 [==============================] - 0s 12ms/step - loss: 0.0933 - accuracy: 0.9318 - val_loss: 0.0377 - val_accuracy: 0.9667\n"
          ],
          "name": "stdout"
        }
      ]
    },
    {
      "cell_type": "code",
      "metadata": {
        "id": "fdfL14O16v_h"
      },
      "source": [
        "history.history??"
      ],
      "execution_count": null,
      "outputs": []
    },
    {
      "cell_type": "code",
      "metadata": {
        "colab": {
          "base_uri": "https://localhost:8080/"
        },
        "id": "sZHRnEWo7yh9",
        "outputId": "2a2442a2-390d-4879-cec0-f980608e8c0b"
      },
      "source": [
        "history.history.keys()"
      ],
      "execution_count": null,
      "outputs": [
        {
          "output_type": "execute_result",
          "data": {
            "text/plain": [
              "dict_keys(['loss', 'accuracy', 'val_loss', 'val_accuracy'])"
            ]
          },
          "metadata": {
            "tags": []
          },
          "execution_count": 263
        }
      ]
    },
    {
      "cell_type": "code",
      "metadata": {
        "colab": {
          "base_uri": "https://localhost:8080/",
          "height": 295
        },
        "id": "ecHlhf7S9SK8",
        "outputId": "698d40d9-181d-47de-b90e-10dd7c099fe2"
      },
      "source": [
        "plt.plot(history.history['accuracy'])\n",
        "plt.title(' Model Accuracy')\n",
        "plt.xlabel('Epochs')\n",
        "plt.ylabel('Accuracy')\n",
        "plt.legend(['train'], loc='upper left')\n",
        "plt.show()"
      ],
      "execution_count": null,
      "outputs": [
        {
          "output_type": "display_data",
          "data": {
            "image/png": "[encoded data removed]",
            "text/plain": [
              "<Figure size 432x288 with 1 Axes>"
            ]
          },
          "metadata": {
            "tags": [],
            "needs_background": "light"
          }
        }
      ]
    },
    {
      "cell_type": "code",
      "metadata": {
        "colab": {
          "base_uri": "https://localhost:8080/",
          "height": 295
        },
        "id": "0w2WVuzX_map",
        "outputId": "80cee72e-89e9-49ff-8219-ee315a8f57aa"
      },
      "source": [
        "plt.plot(history.history['loss'])\n",
        "plt.title(' Model Loss')\n",
        "plt.xlabel('Epochs')\n",
        "plt.ylabel('Loss')\n",
        "plt.legend(['train'], loc='upper left')\n",
        "plt.show()"
      ],
      "execution_count": null,
      "outputs": [
        {
          "output_type": "display_data",
          "data": {
            "image/png": "[encoded data removed]",
            "text/plain": [
              "<Figure size 432x288 with 1 Axes>"
            ]
          },
          "metadata": {
            "tags": [],
            "needs_background": "light"
          }
        }
      ]
    }
  ]
}